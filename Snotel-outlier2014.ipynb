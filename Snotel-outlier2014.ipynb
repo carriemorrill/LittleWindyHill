{
 "cells": [
  {
   "cell_type": "code",
   "execution_count": 1,
   "metadata": {
    "collapsed": true
   },
   "outputs": [],
   "source": [
    "%matplotlib inline\n",
    "import pandas as pd\n",
    "import numpy as np\n",
    "import matplotlib.pyplot as plt\n",
    "import datetime\n",
    "from scipy import stats\n",
    "from functools import reduce"
   ]
  },
  {
   "cell_type": "code",
   "execution_count": 27,
   "metadata": {
    "collapsed": false
   },
   "outputs": [],
   "source": [
    "snotelBL = pd.read_table('SNOTEL-367.txt',comment='#', delimiter=',', usecols=(0,6))  # Brooklyn Lake 10/1980-present\n",
    "snotelBL.columns = ['datetime','obs_precip']                           \n",
    "snotelBL.loc[:,'obs_precip'] *= 25.4                               \n",
    "snotelBL['datetime'] = pd.to_datetime(snotelBL['datetime'], format='%Y-%m-%d')  \n",
    "#snotelBL.head(5)         "
   ]
  },
  {
   "cell_type": "code",
   "execution_count": 26,
   "metadata": {
    "collapsed": false
   },
   "outputs": [],
   "source": [
    "vicBL = pd.read_table(r'C:\\Users\\carrie.morrill\\Jupyter\\LIVNEH-qmap-data\\livneh_NAmerExt_q_1Sep2016.1915-2015_41.34375_-106.21875.txt', \n",
    "                      header = None, delim_whitespace=True, usecols=range(0,1))\n",
    "vicBL.columns = ['model_precip']                          \n",
    "vicBL['datetime'] = pd.date_range(start='1/1/1915',end='12/31/2015')\n",
    "#vicBL.head(5)\n",
    "# SNOTEL station: 41.37 -106.23 3121 meters IOWA ST. MESONET = 41.35885, -106.23209\n",
    "# VIC grid cell: 41.34375 -106.21875 2970 meters (427, 300) ** IN THIS GRID CELL"
   ]
  },
  {
   "cell_type": "code",
   "execution_count": 25,
   "metadata": {
    "collapsed": false
   },
   "outputs": [
    {
     "name": "stdout",
     "output_type": "stream",
     "text": [
      "0.9994823816264409\n"
     ]
    }
   ],
   "source": [
    "brook = pd.merge(snotelBL,vicBL,how='inner', left_on='datetime', right_on='datetime')  \n",
    "brook = brook.dropna(axis=0, how='any')\n",
    "print (brook['obs_precip'].mean()/brook['model_precip'].mean())\n",
    "brook['Month'] = brook['datetime'].dt.month      # create Month column from datetime\n",
    "brook['Year'] = brook['datetime'].dt.year     # create Month column from datetime\n",
    "brook['WaterYear'] = np.where(brook['Month'] <=9, brook['Year'], brook['Year']+1)\n",
    "#brook"
   ]
  },
  {
   "cell_type": "code",
   "execution_count": 60,
   "metadata": {
    "collapsed": false
   },
   "outputs": [
    {
     "data": {
      "text/plain": [
       "(0, 2.5)"
      ]
     },
     "execution_count": 60,
     "metadata": {},
     "output_type": "execute_result"
    },
    {
     "data": {
      "image/png": "[encoded data removed]",
      "text/plain": [
       "<matplotlib.figure.Figure at 0xc19b080>"
      ]
     },
     "metadata": {},
     "output_type": "display_data"
    }
   ],
   "source": [
    "monthlyBL=brook.groupby(['Year','Month']).mean()\n",
    "monthlyBL = monthlyBL.reset_index()\n",
    "monthlyBL = monthlyBL[((monthlyBL.Month >=10) | (monthlyBL.Month <=4)) & (monthlyBL.WaterYear <=2015)]\n",
    "yearlyBL = monthlyBL.groupby(['WaterYear']).mean()  # groupby Year and Month and take average of groups --> monthly averages\n",
    "yearlyBL['ratio'] = np.where((yearlyBL['obs_precip']==0) & (yearlyBL['model_precip']==0), 1, \n",
    "                               yearlyBL['obs_precip']/yearlyBL['model_precip'])\n",
    "#yearlyBL\n",
    "plt.scatter(yearlyBL.Year,yearlyBL.ratio, linewidth=1.0, color='black')\n",
    "plt.title(\"Brooklyn Lake SNOTEL\")\n",
    "plt.xlabel(\"Water year\")\n",
    "plt.ylabel(\"Oct-Apr precipitation (Snotel/VIC ratio)\")\n",
    "plt.ylim(0,2.5)"
   ]
  },
  {
   "cell_type": "code",
   "execution_count": 29,
   "metadata": {
    "collapsed": false,
    "scrolled": false
   },
   "outputs": [],
   "source": [
    "snotelSL = pd.read_table('SNOTEL-731.txt',comment='#', delimiter=',', usecols=(0,6))  # Sand Lake 10/1982-present\n",
    "snotelSL.columns = ['datetime','obs_precip']                           \n",
    "snotelSL.loc[:,'obs_precip'] *= 25.4                               # convert from inches to millimeters\n",
    "snotelSL['datetime'] = pd.to_datetime(snotelSL['datetime'], format='%Y-%m-%d')  \n",
    "#snotelSL                                                               "
   ]
  },
  {
   "cell_type": "code",
   "execution_count": 32,
   "metadata": {
    "collapsed": false,
    "scrolled": true
   },
   "outputs": [],
   "source": [
    "vicSL = pd.read_table(r'C:\\Users\\carrie.morrill\\Jupyter\\LIVNEH-qmap-data\\livneh_NAmerExt_q_1Sep2016.1915-2015_41.46875_-106.28125.txt', \n",
    "        header = None, delim_whitespace=True, usecols=range(0,1))\n",
    "vicSL.columns = ['model_precip']                          # rename columns\n",
    "vicSL['datetime'] = pd.date_range(start='1/1/1915',end='12/31/2015')\n",
    "#vicSL   \n",
    "# SNOTEL station: 41.47 -106.28 10050 ft 3063 m  IOWA STATE MESONET: 41.46257 -106.28107\n",
    "# VIC grid cell: (429, 299) 41.46875 -106.28125  3058.89 m "
   ]
  },
  {
   "cell_type": "code",
   "execution_count": 35,
   "metadata": {
    "collapsed": false
   },
   "outputs": [
    {
     "name": "stdout",
     "output_type": "stream",
     "text": [
      "1.022750578945255\n"
     ]
    }
   ],
   "source": [
    "sand = pd.merge(snotelSL,vicSL,how='inner',left_on='datetime', right_on='datetime')  # merge two data tables \n",
    "sand = sand.dropna(axis=0, how='any')\n",
    "print (sand['obs_precip'].mean()/sand['model_precip'].mean())\n",
    "sand['Month'] = sand['datetime'].dt.month      # create Month column from datetime\n",
    "sand['Year'] = sand['datetime'].dt.year     # create Month column from datetime\n",
    "sand['WaterYear'] = np.where(sand['Month'] <=9, sand['Year'], sand['Year']+1)\n",
    "#sand"
   ]
  },
  {
   "cell_type": "code",
   "execution_count": 59,
   "metadata": {
    "collapsed": false
   },
   "outputs": [
    {
     "data": {
      "text/plain": [
       "(0, 2.5)"
      ]
     },
     "execution_count": 59,
     "metadata": {},
     "output_type": "execute_result"
    },
    {
     "data": {
      "image/png": "[encoded data removed]",
      "text/plain": [
       "<matplotlib.figure.Figure at 0xc33da90>"
      ]
     },
     "metadata": {},
     "output_type": "display_data"
    }
   ],
   "source": [
    "monthlySL = sand.groupby(['Year','Month']).mean()\n",
    "monthlySL = monthlySL.reset_index()\n",
    "monthlySL = monthlySL[((monthlySL.Month >=10) | (monthlySL.Month <=4)) & (monthlySL.WaterYear <=2015)]\n",
    "yearlySL = monthlySL.groupby(['WaterYear']).mean()  # groupby Year and Month and take average of groups --> monthly averages\n",
    "yearlySL['ratio'] = np.where((yearlySL['obs_precip']==0) & (yearlySL['model_precip']==0), 1, \n",
    "                               yearlySL['obs_precip']/yearlySL['model_precip'])\n",
    "#yearlyBL\n",
    "plt.scatter(yearlySL.Year,yearlySL.ratio, linewidth=1.0, color='black')\n",
    "plt.title(\"Sand Lake SNOTEL\")\n",
    "plt.xlabel(\"Water year\")\n",
    "plt.ylabel(\"Oct-Apr precipitation (Snotel/VIC ratio)\")\n",
    "plt.ylim(0,2.5)"
   ]
  },
  {
   "cell_type": "code",
   "execution_count": 37,
   "metadata": {
    "collapsed": false
   },
   "outputs": [],
   "source": [
    "snotelSB = pd.read_table('SNOTEL-772.txt',comment='#', delimiter=',', usecols=(0,6))  # South Brush Creek 3/1979 - present\n",
    "snotelSB.columns = ['datetime','obs_precip']                          \n",
    "snotelSB.loc[:,'obs_precip'] *= 25.4                               \n",
    "snotelSB['datetime'] = pd.to_datetime(snotelSB['datetime'], format='%Y-%m-%d')  \n",
    "#snotelSB  "
   ]
  },
  {
   "cell_type": "code",
   "execution_count": 38,
   "metadata": {
    "collapsed": false
   },
   "outputs": [],
   "source": [
    "vicSB = pd.read_table(r'C:\\Users\\carrie.morrill\\Jupyter\\LIVNEH-qmap-data\\livneh_NAmerExt_q_1Sep2016.1915-2015_41.34375_-106.53125.txt', \n",
    "        header = None, delim_whitespace=True, usecols=range(0,1))\n",
    "vicSB.columns = ['model_precip']                          \n",
    "vicSB['datetime'] = pd.date_range(start='1/1/1915',end='12/31/2015')\n",
    "#vicSB   \n",
    "# SNOTEL site: 41.33 -106.5  8440 ft 2572 m IOWA STATE MESONET: 41.32943 -106.50248\n",
    "# VIC grid cell: 41.34375 -106.46875 (427, 296, 2710m)    ** ON EDGE OF THIS GRID CELL\n",
    "# VIC grid cell: 41.34375 -106.53125 (427, 295, 2525m)    **IN THIS GRID CELL, BUT barely"
   ]
  },
  {
   "cell_type": "code",
   "execution_count": 39,
   "metadata": {
    "collapsed": false
   },
   "outputs": [
    {
     "name": "stdout",
     "output_type": "stream",
     "text": [
      "0.9923148589591395\n"
     ]
    }
   ],
   "source": [
    "brush = pd.merge(snotelSB,vicSB,how='inner', left_on='datetime', right_on='datetime')  \n",
    "brush = brush.dropna(axis=0, how='any')\n",
    "print (brush['obs_precip'].mean()/brush['model_precip'].mean())\n",
    "brush['Month'] = brush['datetime'].dt.month      # create Month column from datetime\n",
    "brush['Year'] = brush['datetime'].dt.year     # create Month column from datetime\n",
    "brush['WaterYear'] = np.where(brush['Month'] <=9, brush['Year'], brush['Year']+1)\n",
    "#brush"
   ]
  },
  {
   "cell_type": "code",
   "execution_count": 58,
   "metadata": {
    "collapsed": false
   },
   "outputs": [
    {
     "data": {
      "text/plain": [
       "(0, 2.5)"
      ]
     },
     "execution_count": 58,
     "metadata": {},
     "output_type": "execute_result"
    },
    {
     "data": {
      "image/png": "[encoded data removed]",
      "text/plain": [
       "<matplotlib.figure.Figure at 0xb891978>"
      ]
     },
     "metadata": {},
     "output_type": "display_data"
    }
   ],
   "source": [
    "monthlySB = brush.groupby(['Year','Month']).mean()\n",
    "monthlySB = monthlySB.reset_index()\n",
    "monthlySB = monthlySB[((monthlySB.Month >=10) | (monthlySB.Month <=4)) & (monthlySB.WaterYear <=2015) & (monthlySB.WaterYear > 1979)]\n",
    "yearlySB = monthlySB.groupby(['WaterYear']).mean()  # groupby Year and Month and take average of groups --> monthly averages\n",
    "yearlySB['ratio'] = np.where((yearlySB['obs_precip']==0) & (yearlySB['model_precip']==0), 1, \n",
    "                               yearlySB['obs_precip']/yearlySB['model_precip'])\n",
    "#yearlySB\n",
    "plt.scatter(yearlySB.Year,yearlySB.ratio, linewidth=1.0, color='black')\n",
    "plt.title(\"South Brush Creek SNOTEL\")\n",
    "plt.xlabel(\"Water year\")\n",
    "plt.ylabel(\"Oct-Apr precipitation (Snotel/VIC ratio)\")\n",
    "plt.ylim(0,2.5)"
   ]
  },
  {
   "cell_type": "code",
   "execution_count": 48,
   "metadata": {
    "collapsed": false
   },
   "outputs": [],
   "source": [
    "snotelNF = pd.read_table('SNOTEL-668.txt',comment='#', delimiter=',', usecols=(0,6))  # North French Creek 10/1978-present\n",
    "snotelNF.columns = ['datetime','obs_precip']                           \n",
    "snotelNF.loc[:,'obs_precip'] *= 25.4                              \n",
    "snotelNF['datetime'] = pd.to_datetime(snotelNF['datetime'], format='%Y-%m-%d')  \n",
    "#snotelNF  "
   ]
  },
  {
   "cell_type": "code",
   "execution_count": 49,
   "metadata": {
    "collapsed": false
   },
   "outputs": [],
   "source": [
    "vicNF = pd.read_table(r'C:\\Users\\carrie.morrill\\Jupyter\\LIVNEH-qmap-data\\livneh_NAmerExt_q_1Sep2016.1915-2015_41.34375_-106.40625.txt', \n",
    "        header = None, delim_whitespace=True, usecols=range(0,1))\n",
    "vicNF.columns = ['model_precip']                          # rename columns\n",
    "vicNF['datetime'] = pd.date_range(start='1/1/1915',end='12/31/2015')\n",
    "#vicNF      \n",
    "# SNOTEL station: 41.33 -106.38 10130 feet elevation 3087 m IOWA STATE MESONET: 41.33080 -106.37555\n",
    "# VIC grid cell: 427, 297 = 41.34375 -106.40625 2879 m     ** IN THIS GRID CELL\n",
    "# VIC grid cell: 427, 298 = 41.34375 -106.34375  3029.68 m  ** ON EDGE OF THIS GRID CELL"
   ]
  },
  {
   "cell_type": "code",
   "execution_count": 50,
   "metadata": {
    "collapsed": false
   },
   "outputs": [
    {
     "name": "stdout",
     "output_type": "stream",
     "text": [
      "0.9847977577335734\n"
     ]
    }
   ],
   "source": [
    "french = pd.merge(snotelNF,vicNF,how='inner',left_on='datetime', right_on='datetime') \n",
    "french = french.dropna(axis=0, how='any')\n",
    "print (french['obs_precip'].mean()/french['model_precip'].mean())\n",
    "french['Month'] = french['datetime'].dt.month      # create Month column from datetime\n",
    "french['Year'] = french['datetime'].dt.year     # create Month column from datetime\n",
    "french['WaterYear'] = np.where(french['Month'] <=9, french['Year'], french['Year']+1)\n",
    "#french"
   ]
  },
  {
   "cell_type": "code",
   "execution_count": 57,
   "metadata": {
    "collapsed": false
   },
   "outputs": [
    {
     "data": {
      "text/plain": [
       "(0, 2.5)"
      ]
     },
     "execution_count": 57,
     "metadata": {},
     "output_type": "execute_result"
    },
    {
     "data": {
      "image/png": "[encoded data removed]",
      "text/plain": [
       "<matplotlib.figure.Figure at 0xb996fd0>"
      ]
     },
     "metadata": {},
     "output_type": "display_data"
    }
   ],
   "source": [
    "monthlyNF = french.groupby(['Year','Month']).mean()\n",
    "monthlyNF = monthlyNF.reset_index()\n",
    "monthlyNF = monthlyNF[((monthlyNF.Month >=10) | (monthlyNF.Month <=4)) & (monthlyNF.WaterYear <=2015)]\n",
    "yearlyNF = monthlyNF.groupby(['WaterYear']).mean()  # groupby Year and Month and take average of groups --> monthly averages\n",
    "yearlyNF['ratio'] = np.where((yearlyNF['obs_precip']==0) & (yearlyNF['model_precip']==0), 1, \n",
    "                               yearlyNF['obs_precip']/yearlyNF['model_precip'])\n",
    "#yearlyNF\n",
    "plt.scatter(yearlyNF.Year,yearlyNF.ratio, linewidth=1.0, color='black')\n",
    "plt.title(\"North French Creek SNOTEL\")\n",
    "plt.xlabel(\"Water year\")\n",
    "plt.ylabel(\"Oct-Apr precipitation (Snotel/VIC ratio)\")\n",
    "plt.ylim(0,2.5)"
   ]
  }
 ],
 "metadata": {
  "anaconda-cloud": {},
  "kernelspec": {
   "display_name": "Python 3",
   "language": "python",
   "name": "python3"
  },
  "language_info": {
   "codemirror_mode": {
    "name": "ipython",
    "version": 3
   },
   "file_extension": ".py",
   "mimetype": "text/x-python",
   "name": "python",
   "nbconvert_exporter": "python",
   "pygments_lexer": "ipython3",
   "version": "3.5.4"
  }
 },
 "nbformat": 4,
 "nbformat_minor": 2
}
